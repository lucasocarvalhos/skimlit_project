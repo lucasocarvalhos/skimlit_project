{
  "nbformat": 4,
  "nbformat_minor": 0,
  "metadata": {
    "colab": {
      "provenance": [],
      "collapsed_sections": [
        "8k80ApdzgUYO",
        "pt7H0hWiDnbP",
        "Bxy6SRxSEE6O"
      ],
      "mount_file_id": "1H9Fvtz9CZH5p_fxCXjfvZGB2FeppxfnA",
      "authorship_tag": "ABX9TyPBMUW6u+9fLdAS5chbFrCE",
      "include_colab_link": true
    },
    "kernelspec": {
      "name": "python3",
      "display_name": "Python 3"
    },
    "language_info": {
      "name": "python"
    },
    "accelerator": "GPU",
    "gpuClass": "standard"
  },
  "cells": [
    {
      "cell_type": "markdown",
      "metadata": {
        "id": "view-in-github",
        "colab_type": "text"
      },
      "source": [
        "<a href=\"https://colab.research.google.com/github/lucasocarvalhos/skimlit_project/blob/main/model_training_and_evaluation.ipynb\" target=\"_parent\"><img src=\"https://colab.research.google.com/assets/colab-badge.svg\" alt=\"Open In Colab\"/></a>"
      ]
    },
    {
      "cell_type": "markdown",
      "source": [
        "# SkimLit Model\n",
        "\n",
        "Training model with the 200k dataset, as seen in the references bellow:\n",
        "\n",
        "> Dataset Paper <br>\n",
        "https://arxiv.org/pdf/1710.06071.pdf\n",
        "\n",
        "> Neural Network Paper <br>\n",
        "https://arxiv.org/pdf/1612.05251.pdf"
      ],
      "metadata": {
        "id": "2rJQCg5_dcu4"
      }
    },
    {
      "cell_type": "markdown",
      "source": [
        "# Helper functions"
      ],
      "metadata": {
        "id": "KJQiORlwdu1n"
      }
    },
    {
      "cell_type": "code",
      "source": [
        "!wget https://raw.githubusercontent.com/mrdbourke/tensorflow-deep-learning/main/extras/helper_functions.py # thanks to zerotomastery"
      ],
      "metadata": {
        "colab": {
          "base_uri": "https://localhost:8080/"
        },
        "id": "sPMYZSuQdwQn",
        "outputId": "0653cc12-abaf-48cc-c800-1d8cf996465c"
      },
      "execution_count": 1,
      "outputs": [
        {
          "output_type": "stream",
          "name": "stdout",
          "text": [
            "--2022-12-29 11:35:00--  https://raw.githubusercontent.com/mrdbourke/tensorflow-deep-learning/main/extras/helper_functions.py\n",
            "Resolving raw.githubusercontent.com (raw.githubusercontent.com)... 185.199.108.133, 185.199.109.133, 185.199.111.133, ...\n",
            "Connecting to raw.githubusercontent.com (raw.githubusercontent.com)|185.199.108.133|:443... connected.\n",
            "HTTP request sent, awaiting response... 200 OK\n",
            "Length: 10246 (10K) [text/plain]\n",
            "Saving to: ‘helper_functions.py.1’\n",
            "\n",
            "\rhelper_functions.py   0%[                    ]       0  --.-KB/s               \rhelper_functions.py 100%[===================>]  10.01K  --.-KB/s    in 0s      \n",
            "\n",
            "2022-12-29 11:35:00 (121 MB/s) - ‘helper_functions.py.1’ saved [10246/10246]\n",
            "\n"
          ]
        }
      ]
    },
    {
      "cell_type": "code",
      "source": [
        "def get_lines(filename):\n",
        "  \"\"\"\n",
        "  Reads a text filename and returns the lines of text as a list.\n",
        "\n",
        "  Args:\n",
        "    filename: a string containing the target filepath\n",
        "\n",
        "  Returns:\n",
        "    A list of strings with one string per line from the target filename\n",
        "  \"\"\"\n",
        "\n",
        "  with open(filename, \"r\") as f:\n",
        "    return f.readlines()"
      ],
      "metadata": {
        "id": "wdHv8qBwd9nw"
      },
      "execution_count": 2,
      "outputs": []
    },
    {
      "cell_type": "code",
      "source": [
        "def txt_to_dicts(filename):\n",
        "  \"\"\"\n",
        "  Returns a list of dicts of abstract line data.\n",
        "  Takes in filename, reads it and sorts through each line, extracting things\n",
        "  like the target label, text of the sentence, how many sentences are in the \n",
        "  abstract and what sentence number the target line is.\n",
        "  \"\"\"\n",
        "\n",
        "  input_lines = get_lines(filename)\n",
        "\n",
        "  abstract_lines = \"\"\n",
        "  abstract_samples = []\n",
        "\n",
        "  for line in input_lines:\n",
        "    if line.startswith(\"###\"):\n",
        "      abstract_id = line\n",
        "      abstract_lines = \"\"\n",
        "    \n",
        "    elif line.isspace():\n",
        "      abstract_line_split = abstract_lines.splitlines()\n",
        "      \n",
        "      for k, abstract_line in enumerate(abstract_line_split):\n",
        "        line_data = {}\n",
        "        target_txt_split = abstract_line.split(\"\\t\")\n",
        "\n",
        "        line_data[\"target\"] = target_txt_split[0]\n",
        "        line_data[\"text\"] = target_txt_split[1].lower()\n",
        "        line_data[\"line_number\"] = k\n",
        "        line_data[\"total_lines\"] = len(abstract_line_split) - 1\n",
        "\n",
        "        abstract_samples.append(line_data)\n",
        "\n",
        "    else: \n",
        "      abstract_lines += line\n",
        "\n",
        "  return abstract_samples"
      ],
      "metadata": {
        "id": "GbYVtfZkeDLn"
      },
      "execution_count": 3,
      "outputs": []
    },
    {
      "cell_type": "markdown",
      "source": [
        "# Get data"
      ],
      "metadata": {
        "id": "VgAhtLSrdiHX"
      }
    },
    {
      "cell_type": "code",
      "execution_count": 4,
      "metadata": {
        "colab": {
          "base_uri": "https://localhost:8080/"
        },
        "id": "lvsGaLbRdQ5w",
        "outputId": "5dcda4f9-4d81-4b0f-8142-712649aff17a"
      },
      "outputs": [
        {
          "output_type": "stream",
          "name": "stdout",
          "text": [
            "fatal: destination path 'pubmed-rct' already exists and is not an empty directory.\n",
            "PubMed_200k_RCT\n",
            "PubMed_200k_RCT_numbers_replaced_with_at_sign\n",
            "PubMed_20k_RCT\n",
            "PubMed_20k_RCT_numbers_replaced_with_at_sign\n",
            "README.md\n"
          ]
        }
      ],
      "source": [
        "!git clone https://github.com/Franck-Dernoncourt/pubmed-rct.git\n",
        "!ls pubmed-rct"
      ]
    },
    {
      "cell_type": "code",
      "source": [
        "import os\n",
        "\n",
        "os.chdir(\"/content/pubmed-rct/PubMed_200k_RCT_numbers_replaced_with_at_sign\")\n",
        "!unzip \"/content/pubmed-rct/PubMed_200k_RCT_numbers_replaced_with_at_sign/train.zip\""
      ],
      "metadata": {
        "colab": {
          "base_uri": "https://localhost:8080/"
        },
        "id": "wQCcI5x2edQ4",
        "outputId": "a7868e71-fa8f-4cee-e04b-e22b407be306"
      },
      "execution_count": 5,
      "outputs": [
        {
          "output_type": "stream",
          "name": "stdout",
          "text": [
            "Archive:  /content/pubmed-rct/PubMed_200k_RCT_numbers_replaced_with_at_sign/train.zip\n",
            "replace train.txt? [y]es, [n]o, [A]ll, [N]one, [r]ename: n\n"
          ]
        }
      ]
    },
    {
      "cell_type": "code",
      "source": [
        "data_dir = \"/content/pubmed-rct/PubMed_200k_RCT_numbers_replaced_with_at_sign/\"\n",
        "\n",
        "filenames = [data_dir + filename for filename in os.listdir(data_dir)]\n",
        "filenames"
      ],
      "metadata": {
        "colab": {
          "base_uri": "https://localhost:8080/"
        },
        "id": "mdFMpEXxd4Sf",
        "outputId": "64747a6d-5170-48dc-abe2-3cffb228ae4e"
      },
      "execution_count": 6,
      "outputs": [
        {
          "output_type": "execute_result",
          "data": {
            "text/plain": [
              "['/content/pubmed-rct/PubMed_200k_RCT_numbers_replaced_with_at_sign/train.zip',\n",
              " '/content/pubmed-rct/PubMed_200k_RCT_numbers_replaced_with_at_sign/train.txt',\n",
              " '/content/pubmed-rct/PubMed_200k_RCT_numbers_replaced_with_at_sign/test.txt',\n",
              " '/content/pubmed-rct/PubMed_200k_RCT_numbers_replaced_with_at_sign/dev.txt']"
            ]
          },
          "metadata": {},
          "execution_count": 6
        }
      ]
    },
    {
      "cell_type": "code",
      "source": [
        "# take txt files and put them all together in json lines\n",
        "train_samples = txt_to_dicts(data_dir + \"train.txt\")\n",
        "test_samples = txt_to_dicts(data_dir + \"test.txt\")\n",
        "val_samples = txt_to_dicts(data_dir + \"dev.txt\")"
      ],
      "metadata": {
        "id": "-rQX56Nrd7Qf"
      },
      "execution_count": 7,
      "outputs": []
    },
    {
      "cell_type": "code",
      "source": [
        "len(train_samples), len(test_samples), len(val_samples)"
      ],
      "metadata": {
        "colab": {
          "base_uri": "https://localhost:8080/"
        },
        "id": "lli_MX07eu3o",
        "outputId": "364455ef-e433-4cff-c864-0a4037373aa1"
      },
      "execution_count": 8,
      "outputs": [
        {
          "output_type": "execute_result",
          "data": {
            "text/plain": [
              "(2211861, 29493, 28932)"
            ]
          },
          "metadata": {},
          "execution_count": 8
        }
      ]
    },
    {
      "cell_type": "markdown",
      "source": [
        "> **Data to dataframe**"
      ],
      "metadata": {
        "id": "B3VAwlkSexwA"
      }
    },
    {
      "cell_type": "code",
      "source": [
        "import pandas as pd"
      ],
      "metadata": {
        "id": "_zmjRsKze3iQ"
      },
      "execution_count": 9,
      "outputs": []
    },
    {
      "cell_type": "code",
      "source": [
        "train_df = pd.DataFrame(train_samples)\n",
        "val_df = pd.DataFrame(val_samples)\n",
        "test_df = pd.DataFrame(test_samples)"
      ],
      "metadata": {
        "id": "yVTVg8wSe0qn"
      },
      "execution_count": 10,
      "outputs": []
    },
    {
      "cell_type": "code",
      "source": [
        "train_df.head()"
      ],
      "metadata": {
        "colab": {
          "base_uri": "https://localhost:8080/",
          "height": 206
        },
        "id": "rapXZ4-bfCct",
        "outputId": "bfa69c9f-1fe0-460b-a85a-89771a7f93f3"
      },
      "execution_count": 11,
      "outputs": [
        {
          "output_type": "execute_result",
          "data": {
            "text/plain": [
              "       target                                               text  line_number  \\\n",
              "0  BACKGROUND  the emergence of hiv as a chronic condition me...            0   \n",
              "1  BACKGROUND  this paper describes the design and evaluation...            1   \n",
              "2     METHODS  this study is designed as a randomised control...            2   \n",
              "3     METHODS  the intervention group will participate in the...            3   \n",
              "4     METHODS  the program is based on self-efficacy theory a...            4   \n",
              "\n",
              "   total_lines  \n",
              "0           10  \n",
              "1           10  \n",
              "2           10  \n",
              "3           10  \n",
              "4           10  "
            ],
            "text/html": [
              "\n",
              "  <div id=\"df-c5c957d4-7a75-45fb-b126-ee2fdf26a8f5\">\n",
              "    <div class=\"colab-df-container\">\n",
              "      <div>\n",
              "<style scoped>\n",
              "    .dataframe tbody tr th:only-of-type {\n",
              "        vertical-align: middle;\n",
              "    }\n",
              "\n",
              "    .dataframe tbody tr th {\n",
              "        vertical-align: top;\n",
              "    }\n",
              "\n",
              "    .dataframe thead th {\n",
              "        text-align: right;\n",
              "    }\n",
              "</style>\n",
              "<table border=\"1\" class=\"dataframe\">\n",
              "  <thead>\n",
              "    <tr style=\"text-align: right;\">\n",
              "      <th></th>\n",
              "      <th>target</th>\n",
              "      <th>text</th>\n",
              "      <th>line_number</th>\n",
              "      <th>total_lines</th>\n",
              "    </tr>\n",
              "  </thead>\n",
              "  <tbody>\n",
              "    <tr>\n",
              "      <th>0</th>\n",
              "      <td>BACKGROUND</td>\n",
              "      <td>the emergence of hiv as a chronic condition me...</td>\n",
              "      <td>0</td>\n",
              "      <td>10</td>\n",
              "    </tr>\n",
              "    <tr>\n",
              "      <th>1</th>\n",
              "      <td>BACKGROUND</td>\n",
              "      <td>this paper describes the design and evaluation...</td>\n",
              "      <td>1</td>\n",
              "      <td>10</td>\n",
              "    </tr>\n",
              "    <tr>\n",
              "      <th>2</th>\n",
              "      <td>METHODS</td>\n",
              "      <td>this study is designed as a randomised control...</td>\n",
              "      <td>2</td>\n",
              "      <td>10</td>\n",
              "    </tr>\n",
              "    <tr>\n",
              "      <th>3</th>\n",
              "      <td>METHODS</td>\n",
              "      <td>the intervention group will participate in the...</td>\n",
              "      <td>3</td>\n",
              "      <td>10</td>\n",
              "    </tr>\n",
              "    <tr>\n",
              "      <th>4</th>\n",
              "      <td>METHODS</td>\n",
              "      <td>the program is based on self-efficacy theory a...</td>\n",
              "      <td>4</td>\n",
              "      <td>10</td>\n",
              "    </tr>\n",
              "  </tbody>\n",
              "</table>\n",
              "</div>\n",
              "      <button class=\"colab-df-convert\" onclick=\"convertToInteractive('df-c5c957d4-7a75-45fb-b126-ee2fdf26a8f5')\"\n",
              "              title=\"Convert this dataframe to an interactive table.\"\n",
              "              style=\"display:none;\">\n",
              "        \n",
              "  <svg xmlns=\"http://www.w3.org/2000/svg\" height=\"24px\"viewBox=\"0 0 24 24\"\n",
              "       width=\"24px\">\n",
              "    <path d=\"M0 0h24v24H0V0z\" fill=\"none\"/>\n",
              "    <path d=\"M18.56 5.44l.94 2.06.94-2.06 2.06-.94-2.06-.94-.94-2.06-.94 2.06-2.06.94zm-11 1L8.5 8.5l.94-2.06 2.06-.94-2.06-.94L8.5 2.5l-.94 2.06-2.06.94zm10 10l.94 2.06.94-2.06 2.06-.94-2.06-.94-.94-2.06-.94 2.06-2.06.94z\"/><path d=\"M17.41 7.96l-1.37-1.37c-.4-.4-.92-.59-1.43-.59-.52 0-1.04.2-1.43.59L10.3 9.45l-7.72 7.72c-.78.78-.78 2.05 0 2.83L4 21.41c.39.39.9.59 1.41.59.51 0 1.02-.2 1.41-.59l7.78-7.78 2.81-2.81c.8-.78.8-2.07 0-2.86zM5.41 20L4 18.59l7.72-7.72 1.47 1.35L5.41 20z\"/>\n",
              "  </svg>\n",
              "      </button>\n",
              "      \n",
              "  <style>\n",
              "    .colab-df-container {\n",
              "      display:flex;\n",
              "      flex-wrap:wrap;\n",
              "      gap: 12px;\n",
              "    }\n",
              "\n",
              "    .colab-df-convert {\n",
              "      background-color: #E8F0FE;\n",
              "      border: none;\n",
              "      border-radius: 50%;\n",
              "      cursor: pointer;\n",
              "      display: none;\n",
              "      fill: #1967D2;\n",
              "      height: 32px;\n",
              "      padding: 0 0 0 0;\n",
              "      width: 32px;\n",
              "    }\n",
              "\n",
              "    .colab-df-convert:hover {\n",
              "      background-color: #E2EBFA;\n",
              "      box-shadow: 0px 1px 2px rgba(60, 64, 67, 0.3), 0px 1px 3px 1px rgba(60, 64, 67, 0.15);\n",
              "      fill: #174EA6;\n",
              "    }\n",
              "\n",
              "    [theme=dark] .colab-df-convert {\n",
              "      background-color: #3B4455;\n",
              "      fill: #D2E3FC;\n",
              "    }\n",
              "\n",
              "    [theme=dark] .colab-df-convert:hover {\n",
              "      background-color: #434B5C;\n",
              "      box-shadow: 0px 1px 3px 1px rgba(0, 0, 0, 0.15);\n",
              "      filter: drop-shadow(0px 1px 2px rgba(0, 0, 0, 0.3));\n",
              "      fill: #FFFFFF;\n",
              "    }\n",
              "  </style>\n",
              "\n",
              "      <script>\n",
              "        const buttonEl =\n",
              "          document.querySelector('#df-c5c957d4-7a75-45fb-b126-ee2fdf26a8f5 button.colab-df-convert');\n",
              "        buttonEl.style.display =\n",
              "          google.colab.kernel.accessAllowed ? 'block' : 'none';\n",
              "\n",
              "        async function convertToInteractive(key) {\n",
              "          const element = document.querySelector('#df-c5c957d4-7a75-45fb-b126-ee2fdf26a8f5');\n",
              "          const dataTable =\n",
              "            await google.colab.kernel.invokeFunction('convertToInteractive',\n",
              "                                                     [key], {});\n",
              "          if (!dataTable) return;\n",
              "\n",
              "          const docLinkHtml = 'Like what you see? Visit the ' +\n",
              "            '<a target=\"_blank\" href=https://colab.research.google.com/notebooks/data_table.ipynb>data table notebook</a>'\n",
              "            + ' to learn more about interactive tables.';\n",
              "          element.innerHTML = '';\n",
              "          dataTable['output_type'] = 'display_data';\n",
              "          await google.colab.output.renderOutput(dataTable, element);\n",
              "          const docLink = document.createElement('div');\n",
              "          docLink.innerHTML = docLinkHtml;\n",
              "          element.appendChild(docLink);\n",
              "        }\n",
              "      </script>\n",
              "    </div>\n",
              "  </div>\n",
              "  "
            ]
          },
          "metadata": {},
          "execution_count": 11
        }
      ]
    },
    {
      "cell_type": "markdown",
      "source": [
        "# Preprocess data"
      ],
      "metadata": {
        "id": "RDJjMpbslTEA"
      }
    },
    {
      "cell_type": "markdown",
      "source": [
        "## Get lists of sentences"
      ],
      "metadata": {
        "id": "Yi8ACEM6fOKl"
      }
    },
    {
      "cell_type": "code",
      "source": [
        "train_sentences = train_df.text.values\n",
        "val_sentences = val_df.text.values\n",
        "test_sentences = test_df.text.values\n",
        "\n",
        "len(train_sentences), len(val_sentences), len(test_sentences)"
      ],
      "metadata": {
        "colab": {
          "base_uri": "https://localhost:8080/"
        },
        "id": "m74VElyffDke",
        "outputId": "d5a4da0e-4c6b-4845-830c-5b09b0faf9cb"
      },
      "execution_count": 12,
      "outputs": [
        {
          "output_type": "execute_result",
          "data": {
            "text/plain": [
              "(2211861, 28932, 29493)"
            ]
          },
          "metadata": {},
          "execution_count": 12
        }
      ]
    },
    {
      "cell_type": "markdown",
      "source": [
        "## One Hot Encode labels"
      ],
      "metadata": {
        "id": "EYX0MQLjfhoV"
      }
    },
    {
      "cell_type": "code",
      "source": [
        "from sklearn.preprocessing import OneHotEncoder"
      ],
      "metadata": {
        "id": "tAObgCs7fc7O"
      },
      "execution_count": 13,
      "outputs": []
    },
    {
      "cell_type": "code",
      "source": [
        "one_hot = OneHotEncoder(sparse=False)\n",
        "\n",
        "train_labels_one_hot = one_hot.fit_transform(train_df.target.values.reshape(-1, 1))\n",
        "val_labels_one_hot = one_hot.transform(val_df.target.values.reshape(-1, 1))\n",
        "test_labels_one_hot = one_hot.transform(test_df.target.values.reshape(-1, 1))"
      ],
      "metadata": {
        "id": "81xlZ25Cfl21"
      },
      "execution_count": 14,
      "outputs": []
    },
    {
      "cell_type": "markdown",
      "source": [
        "## One Hot Encode line infos"
      ],
      "metadata": {
        "id": "pHoULomwhoyD"
      }
    },
    {
      "cell_type": "code",
      "source": [
        "import tensorflow as tf"
      ],
      "metadata": {
        "id": "IaUdo-0KisUp"
      },
      "execution_count": 15,
      "outputs": []
    },
    {
      "cell_type": "code",
      "source": [
        "# one hot encode sentences with less or equal than 15\n",
        "train_line_number_one_hot = tf.one_hot(train_df.line_number.values, depth=15)\n",
        "val_line_number_one_hot = tf.one_hot(val_df.line_number.values, depth=15)\n",
        "test_line_number_one_hot = tf.one_hot(test_df.line_number.values, depth=15)"
      ],
      "metadata": {
        "id": "yz7jw5Z9hrnk"
      },
      "execution_count": 16,
      "outputs": []
    },
    {
      "cell_type": "code",
      "source": [
        "# one hot encode sentences with less or equal than 20\n",
        "train_total_lines_one_hot = tf.one_hot(train_df.total_lines.values, depth=20)\n",
        "val_total_lines_one_hot = tf.one_hot(val_df.total_lines.values, depth=20)\n",
        "test_total_lines_one_hot = tf.one_hot(test_df.total_lines.values, depth=20)"
      ],
      "metadata": {
        "id": "rRLUK1kOiZyj"
      },
      "execution_count": 17,
      "outputs": []
    },
    {
      "cell_type": "markdown",
      "source": [
        "## Map labels into integers"
      ],
      "metadata": {
        "id": "RPBjhRgjf5EF"
      }
    },
    {
      "cell_type": "code",
      "source": [
        "from sklearn.preprocessing import LabelEncoder"
      ],
      "metadata": {
        "id": "noDD4bJof10F"
      },
      "execution_count": 18,
      "outputs": []
    },
    {
      "cell_type": "code",
      "source": [
        "label_encoder = LabelEncoder()\n",
        "\n",
        "train_labels_encoded = label_encoder.fit_transform(train_df.target.values)\n",
        "val_labels_encoded = label_encoder.transform(val_df.target.values)\n",
        "test_labels_encoded = label_encoder.transform(test_df.target.values)"
      ],
      "metadata": {
        "id": "kCvijPxDf91N"
      },
      "execution_count": 19,
      "outputs": []
    },
    {
      "cell_type": "code",
      "source": [
        "num_classes = len(label_encoder.classes_)\n",
        "class_names = label_encoder.classes_"
      ],
      "metadata": {
        "id": "oNYAKpNlgKl3"
      },
      "execution_count": 20,
      "outputs": []
    },
    {
      "cell_type": "markdown",
      "source": [
        "# Create Tokenizer and Embedding"
      ],
      "metadata": {
        "id": "7yvFcyyRl2TA"
      }
    },
    {
      "cell_type": "markdown",
      "source": [
        "## Embedding from TF Hub"
      ],
      "metadata": {
        "id": "i_iEvXw2mJxH"
      }
    },
    {
      "cell_type": "code",
      "source": [
        "import tensorflow_hub as hub"
      ],
      "metadata": {
        "id": "fLAXedzil-PS"
      },
      "execution_count": 21,
      "outputs": []
    },
    {
      "cell_type": "code",
      "source": [
        "tf_hub_embedding_layer = hub.KerasLayer(\"https://tfhub.dev/google/universal-sentence-encoder/4\",\n",
        "                                        trainable=False,\n",
        "                                        name=\"universal_sentence_encoder\")"
      ],
      "metadata": {
        "id": "6ehPMHJOmY9g"
      },
      "execution_count": 22,
      "outputs": []
    },
    {
      "cell_type": "markdown",
      "source": [
        "## Character-level tokenizer"
      ],
      "metadata": {
        "id": "O49-YiYCmpjn"
      }
    },
    {
      "cell_type": "code",
      "source": [
        "import string\n",
        "from tensorflow.keras.layers import TextVectorization\n",
        "from tensorflow.keras import layers"
      ],
      "metadata": {
        "id": "4q05Nf8km9Q3"
      },
      "execution_count": 43,
      "outputs": []
    },
    {
      "cell_type": "code",
      "source": [
        "# function to split sentences into characters\n",
        "def split_chars(text):\n",
        "  return \" \".join(list(text))"
      ],
      "metadata": {
        "id": "1ZciIsX1mt8f"
      },
      "execution_count": 24,
      "outputs": []
    },
    {
      "cell_type": "code",
      "source": [
        "train_chars = [split_chars(sentence) for sentence in train_sentences]\n",
        "val_chars = [split_chars(sentence) for sentence in val_sentences]\n",
        "test_chars = [split_chars(sentence) for sentence in test_sentences]"
      ],
      "metadata": {
        "id": "U_A_KRyGmyav"
      },
      "execution_count": 25,
      "outputs": []
    },
    {
      "cell_type": "code",
      "source": [
        "alphabet = string.ascii_lowercase + string.digits + string.punctuation"
      ],
      "metadata": {
        "id": "0_BytwpimyVv"
      },
      "execution_count": 36,
      "outputs": []
    },
    {
      "cell_type": "code",
      "source": [
        "char_vectorizer = TextVectorization(max_tokens=len(alphabet)+2,\n",
        "                                    output_sequence_length=290, # covers 95% of the length samples\n",
        "                                    name=\"char_vectorizer\")"
      ],
      "metadata": {
        "id": "pDDfL8PRmyM3"
      },
      "execution_count": 37,
      "outputs": []
    },
    {
      "cell_type": "code",
      "source": [
        "# char dataset is too large, so putting in tf.data\n",
        "train_chars_data = tf.data.Dataset.from_tensor_slices(train_chars).batch(64)\n",
        "val_chars_data = tf.data.Dataset.from_tensor_slices(val_chars).batch(64)\n",
        "test_chars_data = tf.data.Dataset.from_tensor_slices(test_chars).batch(64)"
      ],
      "metadata": {
        "id": "fe_u0nYos9Bs"
      },
      "execution_count": 39,
      "outputs": []
    },
    {
      "cell_type": "code",
      "source": [
        "char_vectorizer.adapt(train_chars_data)"
      ],
      "metadata": {
        "id": "BotXOTL4se2N"
      },
      "execution_count": 40,
      "outputs": []
    },
    {
      "cell_type": "code",
      "source": [
        "char_embed = layers.Embedding(input_dim=len(char_vectorizer.get_vocabulary()),\n",
        "                              output_dim=25,\n",
        "                              mask_zero=True,\n",
        "                              name=\"char_level_embedding\")"
      ],
      "metadata": {
        "id": "Sv2ujU9LtZ6C"
      },
      "execution_count": 45,
      "outputs": []
    },
    {
      "cell_type": "markdown",
      "source": [
        "# Load data into tf.data.Dataset for better perfomance"
      ],
      "metadata": {
        "id": "-8TRR7Mtgczk"
      }
    },
    {
      "cell_type": "markdown",
      "source": [
        "**Train**"
      ],
      "metadata": {
        "id": "umwA1zi2izUz"
      }
    },
    {
      "cell_type": "code",
      "source": [
        "train_data = tf.data.Dataset.from_tensor_slices((train_line_number_one_hot,\n",
        "                                                 train_total_lines_one_hot,\n",
        "                                                 train_sentences,\n",
        "                                                 train_chars))\n",
        "\n",
        "train_labels = tf.data.Dataset.from_tensor_slices(train_labels_one_hot)\n",
        "\n",
        "train_dataset = tf.data.Dataset.zip((train_data, train_labels)).batch(64).prefetch(tf.data.AUTOTUNE)"
      ],
      "metadata": {
        "id": "S4Xjq0XNiy6z"
      },
      "execution_count": 46,
      "outputs": []
    },
    {
      "cell_type": "markdown",
      "source": [
        "**Validation**"
      ],
      "metadata": {
        "id": "Vkeo0_wli20b"
      }
    },
    {
      "cell_type": "code",
      "source": [
        "val_data = tf.data.Dataset.from_tensor_slices((val_line_number_one_hot,\n",
        "                                               val_total_lines_one_hot,\n",
        "                                               val_sentences,\n",
        "                                               val_chars))\n",
        "\n",
        "val_labels = tf.data.Dataset.from_tensor_slices(val_labels_one_hot)\n",
        "\n",
        "val_dataset = tf.data.Dataset.zip((val_data, val_labels)).batch(64).prefetch(tf.data.AUTOTUNE)"
      ],
      "metadata": {
        "id": "6bWILp1Ji7Qb"
      },
      "execution_count": 47,
      "outputs": []
    },
    {
      "cell_type": "markdown",
      "source": [
        "**Test**"
      ],
      "metadata": {
        "id": "8JFZapSki4Ob"
      }
    },
    {
      "cell_type": "code",
      "source": [
        "test_data = tf.data.Dataset.from_tensor_slices((test_line_number_one_hot,\n",
        "                                                test_total_lines_one_hot,\n",
        "                                                test_sentences,\n",
        "                                                test_chars))\n",
        "\n",
        "test_labels = tf.data.Dataset.from_tensor_slices(test_labels_one_hot)\n",
        "\n",
        "test_dataset = tf.data.Dataset.zip((test_data, test_labels)).batch(64).prefetch(tf.data.AUTOTUNE)"
      ],
      "metadata": {
        "id": "bec6_ZcOi7pL"
      },
      "execution_count": 48,
      "outputs": []
    },
    {
      "cell_type": "markdown",
      "source": [
        "# Buil Model"
      ],
      "metadata": {
        "id": "8k80ApdzgUYO"
      }
    },
    {
      "cell_type": "code",
      "source": [
        "from scipy.linalg.decomp_svd import zeros\n",
        "# Token model\n",
        "token_inputs = layers.Input(shape=[], dtype=tf.string)\n",
        "token_embeddings = tf_hub_embedding_layer(token_inputs)\n",
        "token_outputs = layers.Dense(256, activation=\"relu\")(token_embeddings)\n",
        "token_model = tf.keras.Model(token_inputs, token_outputs)\n",
        "\n",
        "# Char model\n",
        "char_inputs = layers.Input(shape=(1,), dtype=tf.string)\n",
        "char_vectors = char_vectorizer(char_inputs)\n",
        "char_embeddings = char_embed(char_vectors)\n",
        "char_bi_lstm = layers.Bidirectional(layers.LSTM(48))(char_embeddings)\n",
        "char_model = tf.keras.Model(char_inputs, char_bi_lstm)\n",
        "\n",
        "# Line number model\n",
        "line_number_inputs = layers.Input(shape=(15,), dtype=tf.float32)\n",
        "x = layers.Dense(128, activation=\"relu\")(line_number_inputs)\n",
        "line_number_model = tf.keras.Model(line_number_inputs, x)\n",
        "\n",
        "# Total lines model\n",
        "total_lines_inputs = layers.Input(shape=(20,), dtype=tf.float32)\n",
        "y = layers.Dense(128, activation=\"relu\")(total_lines_inputs)\n",
        "total_lines_model = tf.keras.Model(total_lines_inputs, y)\n",
        "\n",
        "# Combine outputs\n",
        "combined_embeddings = layers.Concatenate()([token_model.output,\n",
        "                                            char_model.output])\n",
        "\n",
        "# Add Dropout\n",
        "z = layers.Dense(256, activation=\"relu\")(combined_embeddings)\n",
        "z = layers.Dropout(0.5)(z)\n",
        "\n",
        "# Combine positional embeddings\n",
        "tribrid_embeddings = layers.Concatenate()([line_number_model.output,\n",
        "                                           total_lines_model.output,\n",
        "                                           z])\n",
        "\n",
        "# Output layer\n",
        "output_layer = layers.Dense(num_classes, activation=\"softmax\")(tribrid_embeddings)\n",
        "\n",
        "# Create model\n",
        "model = tf.keras.Model(inputs=[line_number_model.input,\n",
        "                               total_lines_model.input,\n",
        "                               token_model.input,\n",
        "                               char_model.input],\n",
        "                       outputs=output_layer)\n",
        "\n",
        "# Compile it\n",
        "model.compile(loss=tf.keras.losses.CategoricalCrossentropy(label_smoothing=0.2),\n",
        "              optimizer=\"adam\",\n",
        "              metrics=[\"accuracy\"])\n",
        "\n",
        "# Summary\n",
        "model.summary()"
      ],
      "metadata": {
        "colab": {
          "base_uri": "https://localhost:8080/"
        },
        "id": "zI5g8Di5gTlv",
        "outputId": "43e2bedd-5ada-4ccb-ad8b-5ce81cc20bbb"
      },
      "execution_count": 50,
      "outputs": [
        {
          "output_type": "stream",
          "name": "stdout",
          "text": [
            "Model: \"model_6\"\n",
            "__________________________________________________________________________________________________\n",
            " Layer (type)                   Output Shape         Param #     Connected to                     \n",
            "==================================================================================================\n",
            " input_4 (InputLayer)           [(None, 1)]          0           []                               \n",
            "                                                                                                  \n",
            " input_3 (InputLayer)           [(None,)]            0           []                               \n",
            "                                                                                                  \n",
            " char_vectorizer (TextVectoriza  (None, 290)         0           ['input_4[0][0]']                \n",
            " tion)                                                                                            \n",
            "                                                                                                  \n",
            " universal_sentence_encoder (Ke  (None, 512)         256797824   ['input_3[0][0]']                \n",
            " rasLayer)                                                                                        \n",
            "                                                                                                  \n",
            " char_level_embedding (Embeddin  (None, 290, 25)     700         ['char_vectorizer[1][0]']        \n",
            " g)                                                                                               \n",
            "                                                                                                  \n",
            " dense_1 (Dense)                (None, 256)          131328      ['universal_sentence_encoder[1][0\n",
            "                                                                 ]']                              \n",
            "                                                                                                  \n",
            " bidirectional_1 (Bidirectional  (None, 96)          28416       ['char_level_embedding[1][0]']   \n",
            " )                                                                                                \n",
            "                                                                                                  \n",
            " concatenate (Concatenate)      (None, 352)          0           ['dense_1[0][0]',                \n",
            "                                                                  'bidirectional_1[0][0]']        \n",
            "                                                                                                  \n",
            " input_5 (InputLayer)           [(None, 15)]         0           []                               \n",
            "                                                                                                  \n",
            " input_6 (InputLayer)           [(None, 20)]         0           []                               \n",
            "                                                                                                  \n",
            " dense_4 (Dense)                (None, 256)          90368       ['concatenate[0][0]']            \n",
            "                                                                                                  \n",
            " dense_2 (Dense)                (None, 128)          2048        ['input_5[0][0]']                \n",
            "                                                                                                  \n",
            " dense_3 (Dense)                (None, 128)          2688        ['input_6[0][0]']                \n",
            "                                                                                                  \n",
            " dropout (Dropout)              (None, 256)          0           ['dense_4[0][0]']                \n",
            "                                                                                                  \n",
            " concatenate_1 (Concatenate)    (None, 512)          0           ['dense_2[0][0]',                \n",
            "                                                                  'dense_3[0][0]',                \n",
            "                                                                  'dropout[0][0]']                \n",
            "                                                                                                  \n",
            " dense_5 (Dense)                (None, 5)            2565        ['concatenate_1[0][0]']          \n",
            "                                                                                                  \n",
            "==================================================================================================\n",
            "Total params: 257,055,937\n",
            "Trainable params: 258,113\n",
            "Non-trainable params: 256,797,824\n",
            "__________________________________________________________________________________________________\n"
          ]
        }
      ]
    },
    {
      "cell_type": "markdown",
      "source": [
        "# Train Model"
      ],
      "metadata": {
        "id": "pwwU9zk7wrWA"
      }
    },
    {
      "cell_type": "code",
      "source": [
        "history = model.fit(train_dataset,\n",
        "                    epochs=10,\n",
        "                    steps_per_epoch=int(0.1*len(train_dataset)),\n",
        "                    validation_data=val_dataset,\n",
        "                    validation_steps=int(0.1*len(val_dataset)))"
      ],
      "metadata": {
        "colab": {
          "base_uri": "https://localhost:8080/"
        },
        "id": "SugUXGP6wcPO",
        "outputId": "9fe203f8-a013-4e5a-9fe1-23893f44cd5e"
      },
      "execution_count": 51,
      "outputs": [
        {
          "output_type": "stream",
          "name": "stdout",
          "text": [
            "Epoch 1/10\n",
            "6912/6912 [==============================] - 326s 45ms/step - loss: 0.9336 - accuracy: 0.8345 - val_loss: 0.9105 - val_accuracy: 0.8524\n",
            "Epoch 2/10\n",
            "6912/6912 [==============================] - 306s 44ms/step - loss: 0.9061 - accuracy: 0.8533 - val_loss: 0.8976 - val_accuracy: 0.8608\n",
            "Epoch 3/10\n",
            "6912/6912 [==============================] - 307s 44ms/step - loss: 0.9017 - accuracy: 0.8561 - val_loss: 0.8884 - val_accuracy: 0.8649\n",
            "Epoch 4/10\n",
            "6912/6912 [==============================] - 296s 43ms/step - loss: 0.8956 - accuracy: 0.8600 - val_loss: 0.8834 - val_accuracy: 0.8708\n",
            "Epoch 5/10\n",
            "6912/6912 [==============================] - 310s 45ms/step - loss: 0.8927 - accuracy: 0.8634 - val_loss: 0.8830 - val_accuracy: 0.8667\n",
            "Epoch 6/10\n",
            "6912/6912 [==============================] - 305s 44ms/step - loss: 0.8887 - accuracy: 0.8659 - val_loss: 0.8761 - val_accuracy: 0.8740\n",
            "Epoch 7/10\n",
            "6912/6912 [==============================] - 301s 44ms/step - loss: 0.8858 - accuracy: 0.8677 - val_loss: 0.8798 - val_accuracy: 0.8743\n",
            "Epoch 8/10\n",
            "6912/6912 [==============================] - 311s 45ms/step - loss: 0.8831 - accuracy: 0.8693 - val_loss: 0.8747 - val_accuracy: 0.8698\n",
            "Epoch 9/10\n",
            "6912/6912 [==============================] - 293s 42ms/step - loss: 0.8830 - accuracy: 0.8692 - val_loss: 0.8744 - val_accuracy: 0.8701\n",
            "Epoch 10/10\n",
            "6912/6912 [==============================] - 301s 44ms/step - loss: 0.8818 - accuracy: 0.8697 - val_loss: 0.8708 - val_accuracy: 0.8736\n"
          ]
        }
      ]
    },
    {
      "cell_type": "markdown",
      "source": [
        "# Loss curves"
      ],
      "metadata": {
        "id": "nK8b-iJ98r1s"
      }
    },
    {
      "cell_type": "code",
      "source": [
        "from helper_functions import plot_loss_curves"
      ],
      "metadata": {
        "id": "LhgTSHcf8xiW"
      },
      "execution_count": 53,
      "outputs": []
    },
    {
      "cell_type": "code",
      "source": [
        "plot_loss_curves(history)"
      ],
      "metadata": {
        "colab": {
          "base_uri": "https://localhost:8080/",
          "height": 573
        },
        "id": "VcgamM-I8rGU",
        "outputId": "a7fa7d82-769d-4cdd-8937-85d1821eae8d"
      },
      "execution_count": 54,
      "outputs": [
        {
          "output_type": "display_data",
          "data": {
            "text/plain": [
              "<Figure size 432x288 with 1 Axes>"
            ],
            "image/png": "[encoded data removed]"
          },
          "metadata": {
            "needs_background": "light"
          }
        },
        {
          "output_type": "display_data",
          "data": {
            "text/plain": [
              "<Figure size 432x288 with 1 Axes>"
            ],
            "image/png": "[encoded data removed]"
          },
          "metadata": {
            "needs_background": "light"
          }
        }
      ]
    },
    {
      "cell_type": "markdown",
      "source": [
        "It seems like the model did not overfit."
      ],
      "metadata": {
        "id": "FhvkBNqr87cO"
      }
    },
    {
      "cell_type": "markdown",
      "source": [
        "# Make Predictions on Test Dataset"
      ],
      "metadata": {
        "id": "kPEggmrR7-t0"
      }
    },
    {
      "cell_type": "code",
      "source": [
        "from helper_functions import calculate_results, make_confusion_matrix\n",
        "from sklearn.metrics import classification_report"
      ],
      "metadata": {
        "id": "ZCpXtx619ELc"
      },
      "execution_count": 70,
      "outputs": []
    },
    {
      "cell_type": "code",
      "source": [
        "model_preds = tf.argmax(model.predict(test_dataset), axis=1)"
      ],
      "metadata": {
        "colab": {
          "base_uri": "https://localhost:8080/"
        },
        "id": "VCCZPh5G8Bek",
        "outputId": "29d82303-f185-4772-9aac-d2e8a5c56d44"
      },
      "execution_count": 55,
      "outputs": [
        {
          "output_type": "stream",
          "name": "stdout",
          "text": [
            "461/461 [==============================] - 15s 26ms/step\n"
          ]
        }
      ]
    },
    {
      "cell_type": "code",
      "source": [
        "# calculate results\n",
        "model_results = calculate_results(y_true=test_labels_encoded,\n",
        "                                  y_pred=model_preds)\n",
        "\n",
        "model_results"
      ],
      "metadata": {
        "colab": {
          "base_uri": "https://localhost:8080/"
        },
        "id": "AL-BvOaP8gaJ",
        "outputId": "703f7067-2ef6-4e68-ddb8-e73149564649"
      },
      "execution_count": 59,
      "outputs": [
        {
          "output_type": "execute_result",
          "data": {
            "text/plain": [
              "{'accuracy': 87.41735327026751,\n",
              " 'precision': 0.8747149245292882,\n",
              " 'recall': 0.8741735327026752,\n",
              " 'f1': 0.8724100646391157}"
            ]
          },
          "metadata": {},
          "execution_count": 59
        }
      ]
    },
    {
      "cell_type": "markdown",
      "source": [
        "## Classification Report"
      ],
      "metadata": {
        "id": "hJBAcSzi_SIC"
      }
    },
    {
      "cell_type": "code",
      "source": [
        "print(classification_report(y_true=test_labels_encoded,\n",
        "                            y_pred=model_preds,\n",
        "                            target_names=class_names))"
      ],
      "metadata": {
        "colab": {
          "base_uri": "https://localhost:8080/"
        },
        "id": "tL2qPxTy9Iw7",
        "outputId": "4dbadc22-e372-48cb-e3ea-39b6e128f1ed"
      },
      "execution_count": 65,
      "outputs": [
        {
          "output_type": "stream",
          "name": "stdout",
          "text": [
            "              precision    recall  f1-score   support\n",
            "\n",
            "  BACKGROUND       0.72      0.81      0.76      2663\n",
            " CONCLUSIONS       0.90      0.86      0.88      4426\n",
            "     METHODS       0.89      0.94      0.92      9751\n",
            "   OBJECTIVE       0.83      0.60      0.69      2377\n",
            "     RESULTS       0.90      0.90      0.90     10276\n",
            "\n",
            "    accuracy                           0.87     29493\n",
            "   macro avg       0.85      0.82      0.83     29493\n",
            "weighted avg       0.87      0.87      0.87     29493\n",
            "\n"
          ]
        }
      ]
    },
    {
      "cell_type": "markdown",
      "source": [
        "Model is not perfmorming very well on Background and Objective."
      ],
      "metadata": {
        "id": "HJjijVrH-6L7"
      }
    },
    {
      "cell_type": "markdown",
      "source": [
        "## Confusion Matrix"
      ],
      "metadata": {
        "id": "Z6xK2R-n_UXB"
      }
    },
    {
      "cell_type": "code",
      "source": [
        "make_confusion_matrix(y_true=test_labels_encoded,\n",
        "                      y_pred=model_preds,\n",
        "                      classes=['BACKGROUND', 'CONCLUSIONS', 'METHODS', 'OBJECTIVE', 'RESULTS'])"
      ],
      "metadata": {
        "colab": {
          "base_uri": "https://localhost:8080/",
          "height": 580
        },
        "id": "0iHG6c8i_Pzx",
        "outputId": "feab2fe2-b7f2-41ff-878a-db76ee86477d"
      },
      "execution_count": 87,
      "outputs": [
        {
          "output_type": "display_data",
          "data": {
            "text/plain": [
              "<Figure size 720x720 with 2 Axes>"
            ],
            "image/png": "[encoded data removed]"
          },
          "metadata": {
            "needs_background": "light"
          }
        }
      ]
    },
    {
      "cell_type": "markdown",
      "source": [
        "> We can see that:\n",
        "\n",
        "- Objective often gets confused with Background;\n",
        "- Results often gets confused with Methods;\n",
        "- Conclusions often gets confused with Results.\n",
        "\n",
        "Although, the model is not getting a lot of wrong answers. It is getting a lot more of correct results for METHODS and RESULTS because they're more frequent in the dataset comparing to the other classes."
      ],
      "metadata": {
        "id": "Ttfs6PtJBL34"
      }
    },
    {
      "cell_type": "code",
      "source": [
        "train_df.target.value_counts()"
      ],
      "metadata": {
        "colab": {
          "base_uri": "https://localhost:8080/"
        },
        "id": "GBnFS2aqCNuM",
        "outputId": "552fff3a-3c10-4d8c-f822-7016350c7404"
      },
      "execution_count": 89,
      "outputs": [
        {
          "output_type": "execute_result",
          "data": {
            "text/plain": [
              "RESULTS        766271\n",
              "METHODS        722586\n",
              "CONCLUSIONS    339714\n",
              "BACKGROUND     196689\n",
              "OBJECTIVE      186601\n",
              "Name: target, dtype: int64"
            ]
          },
          "metadata": {},
          "execution_count": 89
        }
      ]
    },
    {
      "cell_type": "markdown",
      "source": [
        "# Save Model"
      ],
      "metadata": {
        "id": "Zf5K8Smr_D0T"
      }
    },
    {
      "cell_type": "code",
      "source": [
        "# model.save(\"skimlit_model_200k\")"
      ],
      "metadata": {
        "colab": {
          "base_uri": "https://localhost:8080/"
        },
        "id": "T_j2j5cI9mUj",
        "outputId": "b4adb069-1ba2-4895-b8c8-7da1ab39853d"
      },
      "execution_count": 67,
      "outputs": [
        {
          "output_type": "stream",
          "name": "stderr",
          "text": [
            "WARNING:absl:Found untraced functions such as lstm_cell_4_layer_call_fn, lstm_cell_4_layer_call_and_return_conditional_losses, lstm_cell_5_layer_call_fn, lstm_cell_5_layer_call_and_return_conditional_losses while saving (showing 4 of 4). These functions will not be directly callable after loading.\n"
          ]
        }
      ]
    },
    {
      "cell_type": "markdown",
      "source": [
        "# Make example predictions"
      ],
      "metadata": {
        "id": "SHo0GzVYC7JG"
      }
    },
    {
      "cell_type": "markdown",
      "source": [
        "## Get example abstracts"
      ],
      "metadata": {
        "id": "pt7H0hWiDnbP"
      }
    },
    {
      "cell_type": "code",
      "source": [
        "!wget https://raw.githubusercontent.com/mrdbourke/tensorflow-deep-learning/main/extras/skimlit_example_abstracts.json"
      ],
      "metadata": {
        "id": "VVehiUTFC8q2"
      },
      "execution_count": null,
      "outputs": []
    },
    {
      "cell_type": "code",
      "source": [
        "import json\n",
        "\n",
        "with open(\"skimlit_example_abstracts.json\", \"r\") as f:\n",
        "  example_abstracts = json.load(f)"
      ],
      "metadata": {
        "id": "9yuVxBkbDvB2"
      },
      "execution_count": 93,
      "outputs": []
    },
    {
      "cell_type": "code",
      "source": [
        "abstracts = pd.DataFrame(example_abstracts)\n",
        "abstracts"
      ],
      "metadata": {
        "colab": {
          "base_uri": "https://localhost:8080/",
          "height": 175
        },
        "id": "-g-MfySwD26F",
        "outputId": "bcd7191d-fba5-4537-9e1c-ba16984ded7d"
      },
      "execution_count": 94,
      "outputs": [
        {
          "output_type": "execute_result",
          "data": {
            "text/plain": [
              "                                            abstract  \\\n",
              "0  This RCT examined the efficacy of a manualized...   \n",
              "1  Postpartum depression (PPD) is the most preval...   \n",
              "2  Mental illness, including depression, anxiety ...   \n",
              "3  Hepatitis C virus (HCV) and alcoholic liver di...   \n",
              "\n",
              "                                      source  \\\n",
              "0  https://pubmed.ncbi.nlm.nih.gov/20232240/   \n",
              "1  https://pubmed.ncbi.nlm.nih.gov/28012571/   \n",
              "2  https://pubmed.ncbi.nlm.nih.gov/28942748/   \n",
              "3  https://pubmed.ncbi.nlm.nih.gov/22244707/   \n",
              "\n",
              "                                             details  \n",
              "0  RCT of a manualized social treatment for high-...  \n",
              "1  Formatting removed (can be used to compare mod...  \n",
              "2               Effect of nutrition on mental health  \n",
              "3  Baclofen promotes alcohol abstinence in alcoho...  "
            ],
            "text/html": [
              "\n",
              "  <div id=\"df-93649821-6282-4222-96c2-925a72bb3db1\">\n",
              "    <div class=\"colab-df-container\">\n",
              "      <div>\n",
              "<style scoped>\n",
              "    .dataframe tbody tr th:only-of-type {\n",
              "        vertical-align: middle;\n",
              "    }\n",
              "\n",
              "    .dataframe tbody tr th {\n",
              "        vertical-align: top;\n",
              "    }\n",
              "\n",
              "    .dataframe thead th {\n",
              "        text-align: right;\n",
              "    }\n",
              "</style>\n",
              "<table border=\"1\" class=\"dataframe\">\n",
              "  <thead>\n",
              "    <tr style=\"text-align: right;\">\n",
              "      <th></th>\n",
              "      <th>abstract</th>\n",
              "      <th>source</th>\n",
              "      <th>details</th>\n",
              "    </tr>\n",
              "  </thead>\n",
              "  <tbody>\n",
              "    <tr>\n",
              "      <th>0</th>\n",
              "      <td>This RCT examined the efficacy of a manualized...</td>\n",
              "      <td>https://pubmed.ncbi.nlm.nih.gov/20232240/</td>\n",
              "      <td>RCT of a manualized social treatment for high-...</td>\n",
              "    </tr>\n",
              "    <tr>\n",
              "      <th>1</th>\n",
              "      <td>Postpartum depression (PPD) is the most preval...</td>\n",
              "      <td>https://pubmed.ncbi.nlm.nih.gov/28012571/</td>\n",
              "      <td>Formatting removed (can be used to compare mod...</td>\n",
              "    </tr>\n",
              "    <tr>\n",
              "      <th>2</th>\n",
              "      <td>Mental illness, including depression, anxiety ...</td>\n",
              "      <td>https://pubmed.ncbi.nlm.nih.gov/28942748/</td>\n",
              "      <td>Effect of nutrition on mental health</td>\n",
              "    </tr>\n",
              "    <tr>\n",
              "      <th>3</th>\n",
              "      <td>Hepatitis C virus (HCV) and alcoholic liver di...</td>\n",
              "      <td>https://pubmed.ncbi.nlm.nih.gov/22244707/</td>\n",
              "      <td>Baclofen promotes alcohol abstinence in alcoho...</td>\n",
              "    </tr>\n",
              "  </tbody>\n",
              "</table>\n",
              "</div>\n",
              "      <button class=\"colab-df-convert\" onclick=\"convertToInteractive('df-93649821-6282-4222-96c2-925a72bb3db1')\"\n",
              "              title=\"Convert this dataframe to an interactive table.\"\n",
              "              style=\"display:none;\">\n",
              "        \n",
              "  <svg xmlns=\"http://www.w3.org/2000/svg\" height=\"24px\"viewBox=\"0 0 24 24\"\n",
              "       width=\"24px\">\n",
              "    <path d=\"M0 0h24v24H0V0z\" fill=\"none\"/>\n",
              "    <path d=\"M18.56 5.44l.94 2.06.94-2.06 2.06-.94-2.06-.94-.94-2.06-.94 2.06-2.06.94zm-11 1L8.5 8.5l.94-2.06 2.06-.94-2.06-.94L8.5 2.5l-.94 2.06-2.06.94zm10 10l.94 2.06.94-2.06 2.06-.94-2.06-.94-.94-2.06-.94 2.06-2.06.94z\"/><path d=\"M17.41 7.96l-1.37-1.37c-.4-.4-.92-.59-1.43-.59-.52 0-1.04.2-1.43.59L10.3 9.45l-7.72 7.72c-.78.78-.78 2.05 0 2.83L4 21.41c.39.39.9.59 1.41.59.51 0 1.02-.2 1.41-.59l7.78-7.78 2.81-2.81c.8-.78.8-2.07 0-2.86zM5.41 20L4 18.59l7.72-7.72 1.47 1.35L5.41 20z\"/>\n",
              "  </svg>\n",
              "      </button>\n",
              "      \n",
              "  <style>\n",
              "    .colab-df-container {\n",
              "      display:flex;\n",
              "      flex-wrap:wrap;\n",
              "      gap: 12px;\n",
              "    }\n",
              "\n",
              "    .colab-df-convert {\n",
              "      background-color: #E8F0FE;\n",
              "      border: none;\n",
              "      border-radius: 50%;\n",
              "      cursor: pointer;\n",
              "      display: none;\n",
              "      fill: #1967D2;\n",
              "      height: 32px;\n",
              "      padding: 0 0 0 0;\n",
              "      width: 32px;\n",
              "    }\n",
              "\n",
              "    .colab-df-convert:hover {\n",
              "      background-color: #E2EBFA;\n",
              "      box-shadow: 0px 1px 2px rgba(60, 64, 67, 0.3), 0px 1px 3px 1px rgba(60, 64, 67, 0.15);\n",
              "      fill: #174EA6;\n",
              "    }\n",
              "\n",
              "    [theme=dark] .colab-df-convert {\n",
              "      background-color: #3B4455;\n",
              "      fill: #D2E3FC;\n",
              "    }\n",
              "\n",
              "    [theme=dark] .colab-df-convert:hover {\n",
              "      background-color: #434B5C;\n",
              "      box-shadow: 0px 1px 3px 1px rgba(0, 0, 0, 0.15);\n",
              "      filter: drop-shadow(0px 1px 2px rgba(0, 0, 0, 0.3));\n",
              "      fill: #FFFFFF;\n",
              "    }\n",
              "  </style>\n",
              "\n",
              "      <script>\n",
              "        const buttonEl =\n",
              "          document.querySelector('#df-93649821-6282-4222-96c2-925a72bb3db1 button.colab-df-convert');\n",
              "        buttonEl.style.display =\n",
              "          google.colab.kernel.accessAllowed ? 'block' : 'none';\n",
              "\n",
              "        async function convertToInteractive(key) {\n",
              "          const element = document.querySelector('#df-93649821-6282-4222-96c2-925a72bb3db1');\n",
              "          const dataTable =\n",
              "            await google.colab.kernel.invokeFunction('convertToInteractive',\n",
              "                                                     [key], {});\n",
              "          if (!dataTable) return;\n",
              "\n",
              "          const docLinkHtml = 'Like what you see? Visit the ' +\n",
              "            '<a target=\"_blank\" href=https://colab.research.google.com/notebooks/data_table.ipynb>data table notebook</a>'\n",
              "            + ' to learn more about interactive tables.';\n",
              "          element.innerHTML = '';\n",
              "          dataTable['output_type'] = 'display_data';\n",
              "          await google.colab.output.renderOutput(dataTable, element);\n",
              "          const docLink = document.createElement('div');\n",
              "          docLink.innerHTML = docLinkHtml;\n",
              "          element.appendChild(docLink);\n",
              "        }\n",
              "      </script>\n",
              "    </div>\n",
              "  </div>\n",
              "  "
            ]
          },
          "metadata": {},
          "execution_count": 94
        }
      ]
    },
    {
      "cell_type": "markdown",
      "source": [
        "## Prepare text to enter model"
      ],
      "metadata": {
        "id": "Bxy6SRxSEE6O"
      }
    },
    {
      "cell_type": "code",
      "source": [
        "from spacy.lang.en import English"
      ],
      "metadata": {
        "id": "ec6SEVZDEBSt"
      },
      "execution_count": 95,
      "outputs": []
    },
    {
      "cell_type": "code",
      "source": [
        "# get the abstract sentences\n",
        "def get_abstract_sentences(abstract):\n",
        "  nlp = English()\n",
        "\n",
        "  sentencizer = nlp.add_pipe(\"sentencizer\")\n",
        "\n",
        "  doc = nlp(abstract)\n",
        "\n",
        "  return [str(sent) for sent in list(doc.sents)]"
      ],
      "metadata": {
        "id": "59HbhXQQEJ9V"
      },
      "execution_count": 109,
      "outputs": []
    },
    {
      "cell_type": "code",
      "source": [
        "# get texts and line info and put into list of dicts\n",
        "def get_abstract_txt_and_lines(abstract):\n",
        "  abstract_lines = get_abstract_sentences(abstract)\n",
        "\n",
        "  # get total number of lines\n",
        "  total_lines_in_sample = len(abstract_lines)\n",
        "\n",
        "  # go through each line and extract features\n",
        "  sample_lines = []\n",
        "  for i, line in enumerate(abstract_lines):\n",
        "    sample_dict = {}\n",
        "    sample_dict[\"text\"] = str(line)\n",
        "    sample_dict[\"line_number\"] = i\n",
        "    sample_dict[\"total_lines\"] = total_lines_in_sample - 1\n",
        "    sample_lines.append(sample_dict)\n",
        "\n",
        "  return sample_lines"
      ],
      "metadata": {
        "id": "yf3IxNwLEvpF"
      },
      "execution_count": 110,
      "outputs": []
    },
    {
      "cell_type": "code",
      "source": [
        "# one hot encode the line_numbers\n",
        "def one_hot_lines(abstract, depth):\n",
        "  sample_lines = get_abstract_txt_and_lines(abstract)\n",
        "\n",
        "  # get all line_number values from abstract\n",
        "  test_abstract_line_numbers = [line[\"line_number\"] for line in sample_lines]\n",
        "\n",
        "  return tf.one_hot(test_abstract_line_numbers, depth)"
      ],
      "metadata": {
        "id": "DoeyiOsNF6t0"
      },
      "execution_count": 118,
      "outputs": []
    },
    {
      "cell_type": "code",
      "source": [
        "# get abstract characters\n",
        "def get_abstract_chars(abstract):\n",
        "  return [split_chars(sentence) for sentence in get_abstract_sentences(abstract)]"
      ],
      "metadata": {
        "id": "PswL2RYOHWxz"
      },
      "execution_count": 116,
      "outputs": []
    },
    {
      "cell_type": "code",
      "source": [
        "def make_pred_and_show(abstract):\n",
        "  test_abstract_line_numbers_one_hot = one_hot_lines(abstract, depth=15)\n",
        "  test_abstract_total_lines_one_hot = one_hot_lines(abstract, depth=20)\n",
        "  abstract_lines = get_abstract_sentences(abstract)\n",
        "  abstract_chars = get_abstract_chars(abstract)\n",
        "\n",
        "  abstract_preds = tf.argmax(model.predict(x=(test_abstract_line_numbers_one_hot,\n",
        "                                              test_abstract_total_lines_one_hot,\n",
        "                                              tf.constant(abstract_lines),\n",
        "                                              tf.constant(abstract_chars)),\n",
        "                                           verbose=0),\n",
        "                             axis=1)\n",
        "  \n",
        "  abstract_lines = get_abstract_sentences(abstract)\n",
        "  test_abstract_pred_classes = [label_encoder.classes_[i] for i in abstract_preds]\n",
        "\n",
        "  for i, line in enumerate(abstract_lines):\n",
        "    print(f\"{test_abstract_pred_classes[i]}: {line}\")"
      ],
      "metadata": {
        "id": "H8Dg9jIcH-Cq"
      },
      "execution_count": 147,
      "outputs": []
    },
    {
      "cell_type": "markdown",
      "source": [
        "Make prediction 1"
      ],
      "metadata": {
        "id": "jeMwRJ0iIlLy"
      }
    },
    {
      "cell_type": "code",
      "source": [
        "make_pred_and_show(example_abstracts[0][\"abstract\"])"
      ],
      "metadata": {
        "colab": {
          "base_uri": "https://localhost:8080/"
        },
        "id": "51ZGCjgFKrB3",
        "outputId": "9cbf4442-d015-497a-9033-2e355efaa29d"
      },
      "execution_count": 148,
      "outputs": [
        {
          "output_type": "stream",
          "name": "stdout",
          "text": [
            "OBJECTIVE: This RCT examined the efficacy of a manualized social intervention for children with HFASDs.\n",
            "METHODS: Participants were randomly assigned to treatment or wait-list conditions.\n",
            "METHODS: Treatment included instruction and therapeutic activities targeting social skills, face-emotion recognition, interest expansion, and interpretation of non-literal language.\n",
            "METHODS: A response-cost program was applied to reduce problem behaviors and foster skills acquisition.\n",
            "RESULTS: Significant treatment effects were found for five of seven primary outcome measures (parent ratings and direct child measures).\n",
            "RESULTS: Secondary measures based on staff ratings (treatment group only) corroborated gains reported by parents.\n",
            "RESULTS: High levels of parent, child and staff satisfaction were reported, along with high levels of treatment fidelity.\n",
            "RESULTS: Standardized effect size estimates were primarily in the medium and large ranges and favored the treatment group.\n"
          ]
        }
      ]
    },
    {
      "cell_type": "markdown",
      "source": [
        "Make prediction 2"
      ],
      "metadata": {
        "id": "YpHZsj0ULfBv"
      }
    },
    {
      "cell_type": "code",
      "source": [
        "make_pred_and_show(example_abstracts[1][\"abstract\"])"
      ],
      "metadata": {
        "colab": {
          "base_uri": "https://localhost:8080/"
        },
        "id": "XYnm-rI1KsM_",
        "outputId": "1090dd30-c014-471e-906a-f98bccc2c8eb"
      },
      "execution_count": 149,
      "outputs": [
        {
          "output_type": "stream",
          "name": "stdout",
          "text": [
            "BACKGROUND: Postpartum depression (PPD) is the most prevalent mood disorder associated with childbirth.\n",
            "BACKGROUND: No single cause of PPD has been identified, however the increased risk of nutritional deficiencies incurred through the high nutritional requirements of pregnancy may play a role in the pathology of depressive symptoms.\n",
            "METHODS: Three nutritional interventions have drawn particular interest as possible non-invasive and cost-effective prevention and/or treatment strategies for PPD; omega-3 (n-3) long chain polyunsaturated fatty acids (LCPUFA), vitamin D and overall diet.\n",
            "METHODS: We searched for meta-analyses of randomised controlled trials (RCT's) of nutritional interventions during the perinatal period with PPD as an outcome, and checked for any trials published subsequently to the meta-analyses.\n",
            "RESULTS: Fish oil: Eleven RCT's of prenatal fish oil supplementation RCT's show null and positive effects on PPD symptoms.\n",
            "RESULTS: Vitamin D: no relevant RCT's were identified, however seven observational studies of maternal vitamin D levels with PPD outcomes showed inconsistent associations.\n",
            "CONCLUSIONS: Diet: Two Australian RCT's with dietary advice interventions in pregnancy had a positive and null result on PPD.\n",
            "RESULTS: With the exception of fish oil, few RCT's with nutritional interventions during pregnancy assess PPD.\n",
            "CONCLUSIONS: Further research is needed to determine whether nutritional intervention strategies during pregnancy can protect against symptoms of PPD.\n",
            "CONCLUSIONS: Given the prevalence of PPD and ease of administering PPD measures, we recommend future prenatal nutritional RCT's include PPD as an outcome.\n"
          ]
        }
      ]
    },
    {
      "cell_type": "markdown",
      "source": [
        "Make prediction 3"
      ],
      "metadata": {
        "id": "1wmq1eghOOfO"
      }
    },
    {
      "cell_type": "code",
      "source": [
        "make_pred_and_show(example_abstracts[2][\"abstract\"])"
      ],
      "metadata": {
        "colab": {
          "base_uri": "https://localhost:8080/"
        },
        "id": "nwCcl4whNjk9",
        "outputId": "9ac2e641-a23e-4359-9a7d-540a3692922d"
      },
      "execution_count": 150,
      "outputs": [
        {
          "output_type": "stream",
          "name": "stdout",
          "text": [
            "BACKGROUND: Mental illness, including depression, anxiety and bipolar disorder, accounts for a significant proportion of global disability and poses a substantial social, economic and heath burden.\n",
            "BACKGROUND: Treatment is presently dominated by pharmacotherapy, such as antidepressants, and psychotherapy, such as cognitive behavioural therapy; however, such treatments avert less than half of the disease burden, suggesting that additional strategies are needed to prevent and treat mental disorders.\n",
            "BACKGROUND: There are now consistent mechanistic, observational and interventional data to suggest diet quality may be a modifiable risk factor for mental illness.\n",
            "CONCLUSIONS: This review provides an overview of the nutritional psychiatry field.\n",
            "CONCLUSIONS: It includes a discussion of the neurobiological mechanisms likely modulated by diet, the use of dietary and nutraceutical interventions in mental disorders, and recommendations for further research.\n",
            "CONCLUSIONS: Potential biological pathways related to mental disorders include inflammation, oxidative stress, the gut microbiome, epigenetic modifications and neuroplasticity.\n",
            "CONCLUSIONS: Consistent epidemiological evidence, particularly for depression, suggests an association between measures of diet quality and mental health, across multiple populations and age groups; these do not appear to be explained by other demographic, lifestyle factors or reverse causality.\n",
            "CONCLUSIONS: Our recently published intervention trial provides preliminary clinical evidence that dietary interventions in clinically diagnosed populations are feasible and can provide significant clinical benefit.\n",
            "CONCLUSIONS: Furthermore, nutraceuticals including n-3 fatty acids, folate, S-adenosylmethionine, N-acetyl cysteine and probiotics, among others, are promising avenues for future research.\n",
            "CONCLUSIONS: Continued research is now required to investigate the efficacy of intervention studies in large cohorts and within clinically relevant populations, particularly in patients with schizophrenia, bipolar and anxiety disorders.\n"
          ]
        }
      ]
    },
    {
      "cell_type": "markdown",
      "source": [
        "Make prediction 4"
      ],
      "metadata": {
        "id": "6mqPXJQzOYQ1"
      }
    },
    {
      "cell_type": "code",
      "source": [
        "make_pred_and_show(example_abstracts[3][\"abstract\"])"
      ],
      "metadata": {
        "colab": {
          "base_uri": "https://localhost:8080/"
        },
        "id": "vtlWns9XOXed",
        "outputId": "88455509-4d21-4880-90e5-da59893e2e6f"
      },
      "execution_count": 151,
      "outputs": [
        {
          "output_type": "stream",
          "name": "stdout",
          "text": [
            "BACKGROUND: Hepatitis C virus (HCV) and alcoholic liver disease (ALD), either alone or in combination, count for more than two thirds of all liver diseases in the Western world.\n",
            "BACKGROUND: There is no safe level of drinking in HCV-infected patients and the most effective goal for these patients is total abstinence.\n",
            "BACKGROUND: Baclofen, a GABA(B) receptor agonist, represents a promising pharmacotherapy for alcohol dependence (AD).\n",
            "METHODS: Previously, we performed a randomized clinical trial (RCT), which demonstrated the safety and efficacy of baclofen in patients affected by AD and cirrhosis.\n",
            "CONCLUSIONS: The goal of this post-hoc analysis was to explore baclofen's effect in a subgroup of alcohol-dependent HCV-infected cirrhotic patients.\n",
            "METHODS: Any patient with HCV infection was selected for this analysis.\n",
            "RESULTS: Among the 84 subjects randomized in the main trial, 24 alcohol-dependent cirrhotic patients had a HCV infection; 12 received baclofen 10mg t.i.d.\n",
            "METHODS: and 12 received placebo for 12-weeks.\n",
            "RESULTS: With respect to the placebo group (3/12, 25.0%), a significantly higher number of patients who achieved and maintained total alcohol abstinence was found in the baclofen group (10/12, 83.3%; p=0.0123).\n",
            "RESULTS: Furthermore, in the baclofen group, compared to placebo, there was a significantly higher increase in albumin values from baseline (p=0.0132) and a trend toward a significant reduction in INR levels from baseline (p=0.0716).\n",
            "CONCLUSIONS: In conclusion, baclofen was safe and significantly more effective than placebo in promoting alcohol abstinence, and improving some Liver Function Tests (LFTs) (i.e. albumin, INR) in alcohol-dependent HCV-infected cirrhotic patients.\n",
            "CONCLUSIONS: Baclofen may represent a clinically relevant alcohol pharmacotherapy for these patients.\n"
          ]
        }
      ]
    },
    {
      "cell_type": "markdown",
      "source": [
        "# Next Steps\n",
        "\n",
        "- In order to develop a model with better perfomance, I aim to use the TensorFlow Hub BERT PubMed pretrained embedding instead of the Universal Sequence Encode (USE) one.\n",
        "\n",
        "- Substitute the Char-Level embedding for a pretrained one.\n",
        "\n",
        "- Train with more than 10% of the train_dataset."
      ],
      "metadata": {
        "id": "t90ll4B1OmxE"
      }
    }
  ]
}